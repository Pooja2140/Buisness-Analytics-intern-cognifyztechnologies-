{
 "cells": [
  {
   "cell_type": "markdown",
   "id": "5d0be060",
   "metadata": {},
   "source": [
    "# Objective: Present basic statistics for numerical columns.\n",
    "\n",
    "Steps:\n",
    "\n",
    "Identify Numerical Columns: Review the\n",
    "dataset to identify columns containing\n",
    "numerical data (e.g., age, income).\n",
    "1.\n",
    "\n",
    "Calculations: Use statistical functions\n",
    "(e.g., mean(), median(), std()) to calculate\n",
    "the mean, median, and standard deviation\n",
    "for each numerical column."
   ]
  },
  {
   "cell_type": "code",
   "execution_count": 1,
   "id": "e8edb474",
   "metadata": {},
   "outputs": [],
   "source": [
    "import pandas as pd\n",
    "df = pd.read_csv('Dataset')"
   ]
  },
  {
   "cell_type": "code",
   "execution_count": 2,
   "id": "37879f68",
   "metadata": {},
   "outputs": [
    {
     "data": {
      "text/plain": [
       "Index(['gender', 'age', 'Investment_Avenues', 'Mutual_Funds', 'Equity_Market',\n",
       "       'Debentures', 'Government_Bonds', 'Fixed_Deposits', 'PPF', 'Gold',\n",
       "       'Stock_Marktet', 'Factor', 'Objective', 'Purpose', 'Duration',\n",
       "       'Invest_Monitor', 'Expect', 'Avenue',\n",
       "       'What are your savings objectives?', 'Reason_Equity', 'Reason_Mutual',\n",
       "       'Reason_Bonds', 'Reason_FD', 'Source'],\n",
       "      dtype='object')"
      ]
     },
     "execution_count": 2,
     "metadata": {},
     "output_type": "execute_result"
    }
   ],
   "source": [
    "df.columns"
   ]
  },
  {
   "cell_type": "code",
   "execution_count": 4,
   "id": "47b6816b",
   "metadata": {},
   "outputs": [
    {
     "data": {
      "text/plain": [
       "['age',\n",
       " 'Mutual_Funds',\n",
       " 'Equity_Market',\n",
       " 'Debentures',\n",
       " 'Government_Bonds',\n",
       " 'Fixed_Deposits',\n",
       " 'PPF',\n",
       " 'Gold']"
      ]
     },
     "execution_count": 4,
     "metadata": {},
     "output_type": "execute_result"
    }
   ],
   "source": [
    "import pandas as pd\n",
    "import numpy as np\n",
    "\n",
    "numerical_cols = df.select_dtypes(include=np.number).columns.tolist()\n",
    "numerical_cols"
   ]
  },
  {
   "cell_type": "code",
   "execution_count": 8,
   "id": "049c77a3",
   "metadata": {},
   "outputs": [
    {
     "name": "stdout",
     "output_type": "stream",
     "text": [
      "                    Mean  Median  Standard Deviation\n",
      "age               27.800    27.0            3.560467\n",
      "Mutual_Funds       2.550     2.0            1.197219\n",
      "Equity_Market      3.475     4.0            1.131994\n",
      "Debentures         5.750     6.5            1.675617\n",
      "Government_Bonds   4.650     5.0            1.369072\n",
      "Fixed_Deposits     3.575     3.5            1.795828\n",
      "PPF                2.025     1.0            1.609069\n",
      "Gold               5.975     6.0            1.143263\n"
     ]
    }
   ],
   "source": [
    "import pandas as pd\n",
    "\n",
    "# Load the dataset (replace 'your_dataset.csv' with your file path)\n",
    "df = pd.read_csv('Dataset')\n",
    "\n",
    "# List of numerical columns\n",
    "numerical_columns = ['age', 'Mutual_Funds', 'Equity_Market', 'Debentures',\n",
    "                     'Government_Bonds', 'Fixed_Deposits', 'PPF', 'Gold']\n",
    "\n",
    "# Initialize a dictionary to store the statistical measures\n",
    "statistics = {}\n",
    "\n",
    "# Calculate mean, median, and standard deviation for each numerical column\n",
    "for column in numerical_columns:\n",
    "    mean = df[column].mean()\n",
    "    median = df[column].median()\n",
    "    std_dev = df[column].std()\n",
    "    statistics[column] = {\n",
    "        'Mean': mean,\n",
    "        'Median': median,\n",
    "        'Standard Deviation': std_dev\n",
    "    }\n",
    "\n",
    "# Convert the dictionary to a DataFrame for better visualization\n",
    "statistics_df = pd.DataFrame(statistics).T\n",
    "print(statistics_df)\n"
   ]
  },
  {
   "cell_type": "code",
   "execution_count": null,
   "id": "d104fdd5",
   "metadata": {},
   "outputs": [],
   "source": []
  }
 ],
 "metadata": {
  "kernelspec": {
   "display_name": "Python 3 (ipykernel)",
   "language": "python",
   "name": "python3"
  },
  "language_info": {
   "codemirror_mode": {
    "name": "ipython",
    "version": 3
   },
   "file_extension": ".py",
   "mimetype": "text/x-python",
   "name": "python",
   "nbconvert_exporter": "python",
   "pygments_lexer": "ipython3",
   "version": "3.9.7"
  }
 },
 "nbformat": 4,
 "nbformat_minor": 5
}
