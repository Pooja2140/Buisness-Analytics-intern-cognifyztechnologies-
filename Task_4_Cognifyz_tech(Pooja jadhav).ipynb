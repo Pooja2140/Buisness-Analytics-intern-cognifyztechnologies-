{
 "cells": [
  {
   "cell_type": "markdown",
   "id": "33fd37b1",
   "metadata": {},
   "source": [
    "Objective: Identify the most preferred\n",
    "investment avenue."
   ]
  },
  {
   "cell_type": "code",
   "execution_count": 2,
   "id": "b02bcf5a",
   "metadata": {},
   "outputs": [],
   "source": [
    "import pandas as pd\n",
    "\n",
    "# Load the dataset\n",
    "file_path = 'Data_set.csv'  # Replace with your file path\n",
    "df = pd.read_csv(file_path)\n"
   ]
  },
  {
   "cell_type": "code",
   "execution_count": 3,
   "id": "a38f29f4",
   "metadata": {},
   "outputs": [
    {
     "name": "stdout",
     "output_type": "stream",
     "text": [
      "   gender  age Investment_Avenues  Mutual_Funds  Equity_Market  Debentures  \\\n",
      "0  Female   34                Yes             1              2           5   \n",
      "1  Female   23                Yes             4              3           2   \n",
      "2    Male   30                Yes             3              6           4   \n",
      "3    Male   22                Yes             2              1           3   \n",
      "4  Female   24                 No             2              1           3   \n",
      "\n",
      "   Government_Bonds  Fixed_Deposits  PPF  Gold  ...           Duration  \\\n",
      "0                 3               7    6     4  ...          1-3 years   \n",
      "1                 1               5    6     7  ...  More than 5 years   \n",
      "2                 2               5    1     7  ...          3-5 years   \n",
      "3                 7               6    4     5  ...   Less than 1 year   \n",
      "4                 6               4    5     7  ...   Less than 1 year   \n",
      "\n",
      "  Invest_Monitor   Expect       Avenue What are your savings objectives?  \\\n",
      "0        Monthly  20%-30%  Mutual Fund                   Retirement Plan   \n",
      "1         Weekly  20%-30%  Mutual Fund                       Health Care   \n",
      "2          Daily  20%-30%       Equity                   Retirement Plan   \n",
      "3          Daily  10%-20%       Equity                   Retirement Plan   \n",
      "4          Daily  20%-30%       Equity                   Retirement Plan   \n",
      "\n",
      "          Reason_Equity         Reason_Mutual     Reason_Bonds  \\\n",
      "0  Capital Appreciation        Better Returns  Safe Investment   \n",
      "1              Dividend        Better Returns  Safe Investment   \n",
      "2  Capital Appreciation          Tax Benefits  Assured Returns   \n",
      "3              Dividend  Fund Diversification   Tax Incentives   \n",
      "4  Capital Appreciation        Better Returns  Safe Investment   \n",
      "\n",
      "             Reason_FD                    Source  \n",
      "0        Fixed Returns  Newspapers and Magazines  \n",
      "1  High Interest Rates     Financial Consultants  \n",
      "2        Fixed Returns                Television  \n",
      "3  High Interest Rates                  Internet  \n",
      "4            Risk Free                  Internet  \n",
      "\n",
      "[5 rows x 24 columns]\n"
     ]
    }
   ],
   "source": [
    "\n",
    "# Display the first few rows of the dataset\n",
    "print(df.head())\n"
   ]
  },
  {
   "cell_type": "code",
   "execution_count": 5,
   "id": "ee6ed5f5",
   "metadata": {},
   "outputs": [],
   "source": [
    "\n",
    "# Analyze Investment Avenues\n",
    "investment_avenues = df['Investment_Avenues']"
   ]
  },
  {
   "cell_type": "code",
   "execution_count": 6,
   "id": "0ca7b7a2",
   "metadata": {},
   "outputs": [],
   "source": [
    "# Perform Frequency Analysis\n",
    "frequency_analysis = investment_avenues.value_counts()"
   ]
  },
  {
   "cell_type": "code",
   "execution_count": 8,
   "id": "3684229b",
   "metadata": {},
   "outputs": [
    {
     "name": "stdout",
     "output_type": "stream",
     "text": [
      "Yes    37\n",
      "No      3\n",
      "Name: Investment_Avenues, dtype: int64\n"
     ]
    }
   ],
   "source": [
    "# Display the frequency analysis\n",
    "print(frequency_analysis)"
   ]
  },
  {
   "cell_type": "code",
   "execution_count": 9,
   "id": "05b06030",
   "metadata": {},
   "outputs": [
    {
     "name": "stdout",
     "output_type": "stream",
     "text": [
      "The most preferred investment avenue is Yes with 37 occurrences.\n"
     ]
    }
   ],
   "source": [
    "# Identify the most preferred investment avenue\n",
    "most_preferred_avenue = frequency_analysis.idxmax()\n",
    "most_preferred_count = frequency_analysis.max()\n",
    "\n",
    "print(f\"The most preferred investment avenue is {most_preferred_avenue} with {most_preferred_count} occurrences.\")"
   ]
  },
  {
   "cell_type": "code",
   "execution_count": null,
   "id": "bd4a4537",
   "metadata": {},
   "outputs": [],
   "source": []
  }
 ],
 "metadata": {
  "kernelspec": {
   "display_name": "Python 3 (ipykernel)",
   "language": "python",
   "name": "python3"
  },
  "language_info": {
   "codemirror_mode": {
    "name": "ipython",
    "version": 3
   },
   "file_extension": ".py",
   "mimetype": "text/x-python",
   "name": "python",
   "nbconvert_exporter": "python",
   "pygments_lexer": "ipython3",
   "version": "3.9.7"
  }
 },
 "nbformat": 4,
 "nbformat_minor": 5
}
