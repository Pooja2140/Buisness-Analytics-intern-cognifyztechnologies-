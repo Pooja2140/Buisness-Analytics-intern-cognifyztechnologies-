{
 "cells": [
  {
   "cell_type": "markdown",
   "id": "bca5dbae",
   "metadata": {},
   "source": [
    "# Objective: Analyze common sources participants rely on for investment information.\n",
    "\n",
    "Steps:\n",
    "\n",
    "Explore Information Sources Column: Review\n",
    "the column where participants indicated their\n",
    "sources of investment information.\n",
    "1.\n",
    "\n",
    "Identify Common Sources: Analyze the data to\n",
    "identify and summarize the most common\n",
    "sources participants rely on."
   ]
  },
  {
   "cell_type": "code",
   "execution_count": 1,
   "id": "af6a617d",
   "metadata": {},
   "outputs": [],
   "source": [
    "import pandas as pd\n",
    "df = pd.read_csv('Dataset')"
   ]
  },
  {
   "cell_type": "code",
   "execution_count": 2,
   "id": "7f8b7064",
   "metadata": {},
   "outputs": [
    {
     "data": {
      "text/plain": [
       "0     Newspapers and Magazines\n",
       "1        Financial Consultants\n",
       "2                   Television\n",
       "3                     Internet\n",
       "4                     Internet\n",
       "5                     Internet\n",
       "6        Financial Consultants\n",
       "7     Newspapers and Magazines\n",
       "8                   Television\n",
       "9     Newspapers and Magazines\n",
       "10       Financial Consultants\n",
       "11       Financial Consultants\n",
       "12                    Internet\n",
       "13    Newspapers and Magazines\n",
       "14       Financial Consultants\n",
       "15    Newspapers and Magazines\n",
       "16                  Television\n",
       "17       Financial Consultants\n",
       "18    Newspapers and Magazines\n",
       "19    Newspapers and Magazines\n",
       "20       Financial Consultants\n",
       "21    Newspapers and Magazines\n",
       "22       Financial Consultants\n",
       "23       Financial Consultants\n",
       "24    Newspapers and Magazines\n",
       "25       Financial Consultants\n",
       "26       Financial Consultants\n",
       "27                  Television\n",
       "28                  Television\n",
       "29    Newspapers and Magazines\n",
       "30                  Television\n",
       "31       Financial Consultants\n",
       "32    Newspapers and Magazines\n",
       "33    Newspapers and Magazines\n",
       "34       Financial Consultants\n",
       "35       Financial Consultants\n",
       "36    Newspapers and Magazines\n",
       "37       Financial Consultants\n",
       "38    Newspapers and Magazines\n",
       "39       Financial Consultants\n",
       "Name: Source, dtype: object"
      ]
     },
     "execution_count": 2,
     "metadata": {},
     "output_type": "execute_result"
    }
   ],
   "source": [
    "df.Source"
   ]
  },
  {
   "cell_type": "code",
   "execution_count": 3,
   "id": "630e7c74",
   "metadata": {},
   "outputs": [
    {
     "name": "stdout",
     "output_type": "stream",
     "text": [
      "0     Newspapers and Magazines\n",
      "1        Financial Consultants\n",
      "2                   Television\n",
      "3                     Internet\n",
      "4                     Internet\n",
      "5                     Internet\n",
      "6        Financial Consultants\n",
      "7     Newspapers and Magazines\n",
      "8                   Television\n",
      "9     Newspapers and Magazines\n",
      "10       Financial Consultants\n",
      "11       Financial Consultants\n",
      "12                    Internet\n",
      "13    Newspapers and Magazines\n",
      "14       Financial Consultants\n",
      "15    Newspapers and Magazines\n",
      "16                  Television\n",
      "17       Financial Consultants\n",
      "18    Newspapers and Magazines\n",
      "19    Newspapers and Magazines\n",
      "20       Financial Consultants\n",
      "21    Newspapers and Magazines\n",
      "22       Financial Consultants\n",
      "23       Financial Consultants\n",
      "24    Newspapers and Magazines\n",
      "25       Financial Consultants\n",
      "26       Financial Consultants\n",
      "27                  Television\n",
      "28                  Television\n",
      "29    Newspapers and Magazines\n",
      "30                  Television\n",
      "31       Financial Consultants\n",
      "32    Newspapers and Magazines\n",
      "33    Newspapers and Magazines\n",
      "34       Financial Consultants\n",
      "35       Financial Consultants\n",
      "36    Newspapers and Magazines\n",
      "37       Financial Consultants\n",
      "38    Newspapers and Magazines\n",
      "39       Financial Consultants\n",
      "Name: Source, dtype: object\n"
     ]
    }
   ],
   "source": [
    "# Identify the most common sources\n",
    "common_sources = df['Source']\n",
    "print(common_sources)"
   ]
  },
  {
   "cell_type": "code",
   "execution_count": 4,
   "id": "6185ebc9",
   "metadata": {},
   "outputs": [
    {
     "data": {
      "text/plain": [
       "count                        40\n",
       "unique                        4\n",
       "top       Financial Consultants\n",
       "freq                         16\n",
       "Name: Source, dtype: object"
      ]
     },
     "execution_count": 4,
     "metadata": {},
     "output_type": "execute_result"
    }
   ],
   "source": [
    "common_sources.describe()\n"
   ]
  },
  {
   "cell_type": "code",
   "execution_count": 5,
   "id": "101768a6",
   "metadata": {},
   "outputs": [
    {
     "data": {
      "text/plain": [
       "Financial Consultants       16\n",
       "Newspapers and Magazines    14\n",
       "Television                   6\n",
       "Internet                     4\n",
       "Name: Source, dtype: int64"
      ]
     },
     "execution_count": 5,
     "metadata": {},
     "output_type": "execute_result"
    }
   ],
   "source": [
    "common_sources.value_counts()"
   ]
  },
  {
   "cell_type": "code",
   "execution_count": 6,
   "id": "d46e2611",
   "metadata": {},
   "outputs": [
    {
     "data": {
      "image/png": "[encoded data removed]",
      "text/plain": [
       "<Figure size 720x432 with 1 Axes>"
      ]
     },
     "metadata": {
      "needs_background": "light"
     },
     "output_type": "display_data"
    }
   ],
   "source": [
    "import pandas as pd\n",
    "import matplotlib.pyplot as plt\n",
    "plt.figure(figsize=(10, 6))\n",
    "plt.bar(common_sources.index, common_sources)\n",
    "plt.title('Common Sources')\n",
    "plt.xlabel('Source')\n",
    "plt.ylabel('Count')\n",
    "plt.xticks(rotation=90)\n",
    "plt.show()"
   ]
  },
  {
   "cell_type": "code",
   "execution_count": null,
   "id": "fbe50766",
   "metadata": {},
   "outputs": [],
   "source": []
  }
 ],
 "metadata": {
  "kernelspec": {
   "display_name": "Python 3 (ipykernel)",
   "language": "python",
   "name": "python3"
  },
  "language_info": {
   "codemirror_mode": {
    "name": "ipython",
    "version": 3
   },
   "file_extension": ".py",
   "mimetype": "text/x-python",
   "name": "python",
   "nbconvert_exporter": "python",
   "pygments_lexer": "ipython3",
   "version": "3.9.7"
  }
 },
 "nbformat": 4,
 "nbformat_minor": 5
}
