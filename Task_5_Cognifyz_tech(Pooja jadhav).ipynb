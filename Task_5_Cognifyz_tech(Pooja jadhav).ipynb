{
 "cells": [
  {
   "cell_type": "markdown",
   "id": "565db6b2",
   "metadata": {},
   "source": [
    "# Objective: Analyze and summarize reasons for investment choices."
   ]
  },
  {
   "cell_type": "code",
   "execution_count": 1,
   "id": "65e5f599",
   "metadata": {},
   "outputs": [
    {
     "name": "stdout",
     "output_type": "stream",
     "text": [
      "   gender  age Investment_Avenues  Mutual_Funds  Equity_Market  Debentures  \\\n",
      "0  Female   34                Yes             1              2           5   \n",
      "1  Female   23                Yes             4              3           2   \n",
      "2    Male   30                Yes             3              6           4   \n",
      "3    Male   22                Yes             2              1           3   \n",
      "4  Female   24                 No             2              1           3   \n",
      "\n",
      "   Government_Bonds  Fixed_Deposits  PPF  Gold  ...           Duration  \\\n",
      "0                 3               7    6     4  ...          1-3 years   \n",
      "1                 1               5    6     7  ...  More than 5 years   \n",
      "2                 2               5    1     7  ...          3-5 years   \n",
      "3                 7               6    4     5  ...   Less than 1 year   \n",
      "4                 6               4    5     7  ...   Less than 1 year   \n",
      "\n",
      "  Invest_Monitor   Expect       Avenue What are your savings objectives?  \\\n",
      "0        Monthly  20%-30%  Mutual Fund                   Retirement Plan   \n",
      "1         Weekly  20%-30%  Mutual Fund                       Health Care   \n",
      "2          Daily  20%-30%       Equity                   Retirement Plan   \n",
      "3          Daily  10%-20%       Equity                   Retirement Plan   \n",
      "4          Daily  20%-30%       Equity                   Retirement Plan   \n",
      "\n",
      "          Reason_Equity         Reason_Mutual     Reason_Bonds  \\\n",
      "0  Capital Appreciation        Better Returns  Safe Investment   \n",
      "1              Dividend        Better Returns  Safe Investment   \n",
      "2  Capital Appreciation          Tax Benefits  Assured Returns   \n",
      "3              Dividend  Fund Diversification   Tax Incentives   \n",
      "4  Capital Appreciation        Better Returns  Safe Investment   \n",
      "\n",
      "             Reason_FD                    Source  \n",
      "0        Fixed Returns  Newspapers and Magazines  \n",
      "1  High Interest Rates     Financial Consultants  \n",
      "2        Fixed Returns                Television  \n",
      "3  High Interest Rates                  Internet  \n",
      "4            Risk Free                  Internet  \n",
      "\n",
      "[5 rows x 24 columns]\n",
      "Equity Reasons:\n",
      " 0    Capital Appreciation\n",
      "1                Dividend\n",
      "2    Capital Appreciation\n",
      "3                Dividend\n",
      "4    Capital Appreciation\n",
      "Name: Reason_Equity, dtype: object\n",
      "Mutual Funds Reasons:\n",
      " 0          Better Returns\n",
      "1          Better Returns\n",
      "2            Tax Benefits\n",
      "3    Fund Diversification\n",
      "4          Better Returns\n",
      "Name: Reason_Mutual, dtype: object\n",
      "Bonds Reasons:\n",
      " 0    Safe Investment\n",
      "1    Safe Investment\n",
      "2    Assured Returns\n",
      "3     Tax Incentives\n",
      "4    Safe Investment\n",
      "Name: Reason_Bonds, dtype: object\n",
      "Fixed Deposits Reasons:\n",
      " 0          Fixed Returns\n",
      "1    High Interest Rates\n",
      "2          Fixed Returns\n",
      "3    High Interest Rates\n",
      "4              Risk Free\n",
      "Name: Reason_FD, dtype: object\n"
     ]
    }
   ],
   "source": [
    "import pandas as pd\n",
    "\n",
    "# Load the dataset\n",
    "file_path = 'Data_set.csv'  # Replace with your file path\n",
    "df = pd.read_csv(file_path)\n",
    "\n",
    "# Display the first few rows of the dataset\n",
    "print(df.head())\n",
    "\n",
    "# Extract the reason columns\n",
    "reasons_equity = df['Reason_Equity']\n",
    "reasons_mutual = df['Reason_Mutual']\n",
    "reasons_bonds = df['Reason_Bonds']\n",
    "reasons_fd = df['Reason_FD']\n",
    "\n",
    "# Display the first few entries of each column\n",
    "print(\"Equity Reasons:\\n\", reasons_equity.head())\n",
    "print(\"Mutual Funds Reasons:\\n\", reasons_mutual.head())\n",
    "print(\"Bonds Reasons:\\n\", reasons_bonds.head())\n",
    "print(\"Fixed Deposits Reasons:\\n\", reasons_fd.head())\n"
   ]
  },
  {
   "cell_type": "code",
   "execution_count": 2,
   "id": "0af3819b",
   "metadata": {},
   "outputs": [],
   "source": [
    "#clean and process the data\n",
    "from collections import Counter\n",
    "import re\n",
    "\n",
    "# Define a preprocessing function\n",
    "def preprocess(text):\n",
    "    text = text.lower()  # Convert to lowercase\n",
    "    text = re.sub(r'\\b\\w{1,2}\\b', '', text)  # Remove short words (e.g., a, an, the)\n",
    "    text = re.sub(r'[^\\w\\s]', '', text)  # Remove punctuation\n",
    "    return text\n",
    "\n",
    "# Apply preprocessing to each Reasons column\n",
    "cleaned_equity = reasons_equity.dropna().apply(preprocess)\n",
    "cleaned_mutual = reasons_mutual.dropna().apply(preprocess)\n",
    "cleaned_bonds = reasons_bonds.dropna().apply(preprocess)\n",
    "cleaned_fd = reasons_fd.dropna().apply(preprocess)\n"
   ]
  },
  {
   "cell_type": "code",
   "execution_count": 4,
   "id": "2c243ef5",
   "metadata": {
    "scrolled": true
   },
   "outputs": [],
   "source": [
    "# Tokenize the text data and count word frequencies for each column\n",
    "all_words_equity = ' '.join(cleaned_equity).split()\n",
    "all_words_mutual = ' '.join(cleaned_mutual).split()\n",
    "all_words_bonds = ' '.join(cleaned_bonds).split()\n",
    "all_words_fd = ' '.join(cleaned_fd).split()\n",
    "\n",
    "word_freq_equity = Counter(all_words_equity)\n",
    "word_freq_mutual = Counter(all_words_mutual)\n",
    "word_freq_bonds = Counter(all_words_bonds)\n",
    "word_freq_fd = Counter(all_words_fd)\n"
   ]
  },
  {
   "cell_type": "code",
   "execution_count": 5,
   "id": "3f70b9f6",
   "metadata": {},
   "outputs": [
    {
     "name": "stdout",
     "output_type": "stream",
     "text": [
      "Common Equity Reasons:\n",
      " [('capital', 30), ('appreciation', 30), ('dividend', 8), ('liquidity', 2)]\n",
      "Common Mutual Funds Reasons:\n",
      " [('better', 24), ('returns', 24), ('fund', 13), ('diversification', 13), ('tax', 3), ('benefits', 3)]\n",
      "Common Bonds Reasons:\n",
      " [('assured', 26), ('returns', 26), ('safe', 13), ('investment', 13), ('tax', 1), ('incentives', 1)]\n",
      "Common Fixed Deposits Reasons:\n",
      " [('risk', 19), ('free', 19), ('fixed', 18), ('returns', 18), ('high', 3), ('interest', 3), ('rates', 3)]\n"
     ]
    }
   ],
   "source": [
    "\n",
    "# Display the most common words for each column\n",
    "common_words_equity = word_freq_equity.most_common(10)\n",
    "common_words_mutual = word_freq_mutual.most_common(10)\n",
    "common_words_bonds = word_freq_bonds.most_common(10)\n",
    "common_words_fd = word_freq_fd.most_common(10)\n",
    "\n",
    "print(\"Common Equity Reasons:\\n\", common_words_equity)\n",
    "print(\"Common Mutual Funds Reasons:\\n\", common_words_mutual)\n",
    "print(\"Common Bonds Reasons:\\n\", common_words_bonds)\n",
    "print(\"Common Fixed Deposits Reasons:\\n\", common_words_fd)\n"
   ]
  },
  {
   "cell_type": "code",
   "execution_count": null,
   "id": "471a44a9",
   "metadata": {},
   "outputs": [],
   "source": []
  }
 ],
 "metadata": {
  "kernelspec": {
   "display_name": "Python 3 (ipykernel)",
   "language": "python",
   "name": "python3"
  },
  "language_info": {
   "codemirror_mode": {
    "name": "ipython",
    "version": 3
   },
   "file_extension": ".py",
   "mimetype": "text/x-python",
   "name": "python",
   "nbconvert_exporter": "python",
   "pygments_lexer": "ipython3",
   "version": "3.9.7"
  }
 },
 "nbformat": 4,
 "nbformat_minor": 5
}
