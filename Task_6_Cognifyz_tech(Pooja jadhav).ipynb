{
 "cells": [
  {
   "cell_type": "markdown",
   "id": "d36e3b02",
   "metadata": {},
   "source": [
    "# Objective: Identify and present main savings objectives."
   ]
  },
  {
   "cell_type": "code",
   "execution_count": 4,
   "id": "161a1d2f",
   "metadata": {},
   "outputs": [
    {
     "name": "stdout",
     "output_type": "stream",
     "text": [
      "   gender  age Investment_Avenues  Mutual_Funds  Equity_Market  Debentures  \\\n",
      "0  Female   34                Yes             1              2           5   \n",
      "1  Female   23                Yes             4              3           2   \n",
      "2    Male   30                Yes             3              6           4   \n",
      "3    Male   22                Yes             2              1           3   \n",
      "4  Female   24                 No             2              1           3   \n",
      "\n",
      "   Government_Bonds  Fixed_Deposits  PPF  Gold  ...           Duration  \\\n",
      "0                 3               7    6     4  ...          1-3 years   \n",
      "1                 1               5    6     7  ...  More than 5 years   \n",
      "2                 2               5    1     7  ...          3-5 years   \n",
      "3                 7               6    4     5  ...   Less than 1 year   \n",
      "4                 6               4    5     7  ...   Less than 1 year   \n",
      "\n",
      "  Invest_Monitor   Expect       Avenue What are your savings objectives?  \\\n",
      "0        Monthly  20%-30%  Mutual Fund                   Retirement Plan   \n",
      "1         Weekly  20%-30%  Mutual Fund                       Health Care   \n",
      "2          Daily  20%-30%       Equity                   Retirement Plan   \n",
      "3          Daily  10%-20%       Equity                   Retirement Plan   \n",
      "4          Daily  20%-30%       Equity                   Retirement Plan   \n",
      "\n",
      "          Reason_Equity         Reason_Mutual     Reason_Bonds  \\\n",
      "0  Capital Appreciation        Better Returns  Safe Investment   \n",
      "1              Dividend        Better Returns  Safe Investment   \n",
      "2  Capital Appreciation          Tax Benefits  Assured Returns   \n",
      "3              Dividend  Fund Diversification   Tax Incentives   \n",
      "4  Capital Appreciation        Better Returns  Safe Investment   \n",
      "\n",
      "             Reason_FD                    Source  \n",
      "0        Fixed Returns  Newspapers and Magazines  \n",
      "1  High Interest Rates     Financial Consultants  \n",
      "2        Fixed Returns                Television  \n",
      "3  High Interest Rates                  Internet  \n",
      "4            Risk Free                  Internet  \n",
      "\n",
      "[5 rows x 24 columns]\n"
     ]
    }
   ],
   "source": [
    "import pandas as pd\n",
    "\n",
    "# Load the dataset\n",
    "file_path = 'Data_set.csv'  # Replace with your file path\n",
    "df = pd.read_csv(file_path)\n",
    "\n",
    "# Display the first few rows of the dataset\n",
    "print(df.head())\n"
   ]
  },
  {
   "cell_type": "code",
   "execution_count": 5,
   "id": "3707fbde",
   "metadata": {},
   "outputs": [
    {
     "name": "stdout",
     "output_type": "stream",
     "text": [
      "0    Capital Appreciation\n",
      "1    Capital Appreciation\n",
      "2    Capital Appreciation\n",
      "3                  Income\n",
      "4                  Income\n",
      "Name: Objective, dtype: object\n"
     ]
    }
   ],
   "source": [
    "\n",
    "# Analyze the Savings Objectives column\n",
    "savings_objectives = df['Objective']  # Replace 'Savings_Objectives' with the actual column name\n",
    "print(savings_objectives.head())\n"
   ]
  },
  {
   "cell_type": "code",
   "execution_count": 6,
   "id": "a45f3b61",
   "metadata": {},
   "outputs": [],
   "source": [
    "from collections import Counter\n",
    "import re\n",
    "\n",
    "# Define a preprocessing function\n",
    "def preprocess(text):\n",
    "    text = text.lower()  # Convert to lowercase\n",
    "    text = re.sub(r'\\b\\w{1,2}\\b', '', text)  # Remove short words (e.g., a, an, the)\n",
    "    text = re.sub(r'[^\\w\\s]', '', text)  # Remove punctuation\n",
    "    return text\n",
    "\n",
    "# Apply preprocessing to the Savings Objectives column\n",
    "cleaned_savings_objectives = savings_objectives.dropna().apply(preprocess)\n"
   ]
  },
  {
   "cell_type": "code",
   "execution_count": 7,
   "id": "8394ace3",
   "metadata": {},
   "outputs": [
    {
     "name": "stdout",
     "output_type": "stream",
     "text": [
      "[('capital', 26), ('appreciation', 26), ('growth', 11), ('income', 3)]\n"
     ]
    }
   ],
   "source": [
    "# Tokenize the text data and count word frequencies\n",
    "all_words = ' '.join(cleaned_savings_objectives).split()\n",
    "word_freq = Counter(all_words)\n",
    "\n",
    "# Display the most common words\n",
    "common_words = word_freq.most_common(20)  # Adjust the number to see more or fewer words\n",
    "print(common_words)\n"
   ]
  },
  {
   "cell_type": "code",
   "execution_count": null,
   "id": "7f4ccd64",
   "metadata": {},
   "outputs": [],
   "source": []
  }
 ],
 "metadata": {
  "kernelspec": {
   "display_name": "Python 3 (ipykernel)",
   "language": "python",
   "name": "python3"
  },
  "language_info": {
   "codemirror_mode": {
    "name": "ipython",
    "version": 3
   },
   "file_extension": ".py",
   "mimetype": "text/x-python",
   "name": "python",
   "nbconvert_exporter": "python",
   "pygments_lexer": "ipython3",
   "version": "3.9.7"
  }
 },
 "nbformat": 4,
 "nbformat_minor": 5
}
